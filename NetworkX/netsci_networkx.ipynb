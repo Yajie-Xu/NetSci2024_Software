{
  "cells": [
    {
      "cell_type": "markdown",
      "id": "b014675b-5ae9-4a65-9354-9bb9f246a48f",
      "metadata": {
        "id": "b014675b-5ae9-4a65-9354-9bb9f246a48f"
      },
      "source": [
        "# NetSci 2024 - Cross-Package Network Analysis\n",
        "\n",
        "Welcome to the NetSci tutorial on cross-package network analysis!\n",
        "\n",
        "- Matt Schwennesen ([networkx](https://networkx.org))\n",
        "- Tiago de Paula Peixoto ([graph-tool](https://graph-tool.skewed.de/))\n",
        "- Tamás Nepusz ([igraph](https://igraph.org/))\n",
        "\n",
        "## Python Primer\n",
        "\n",
        "Let's begin with a breif overview of the `python` programming language itself. Topics that we'll cover here include:\n",
        "\n",
        "- variables, constants, primitive operations\n",
        "- strings\n",
        "- `print` and basic `f`-strings\n",
        "- conditionals\n",
        "- lists and tuples\n",
        "- dicts\n",
        "- loops\n",
        "- comprehensions\n",
        "- functions\n",
        "\n",
        "Let's jump in!"
      ]
    },
    {
      "cell_type": "markdown",
      "id": "8f7e092e-e842-4259-a434-34dcab086f3e",
      "metadata": {
        "id": "8f7e092e-e842-4259-a434-34dcab086f3e"
      },
      "source": [
        "### Python Basics\n",
        "\n",
        "In `python`, numbers and areithmatic operators work as you would expect"
      ]
    },
    {
      "cell_type": "code",
      "execution_count": null,
      "id": "207bf68f-e1d1-4741-9233-338eb21dbfc6",
      "metadata": {
        "id": "207bf68f-e1d1-4741-9233-338eb21dbfc6"
      },
      "outputs": [],
      "source": [
        "1 + 1"
      ]
    },
    {
      "cell_type": "code",
      "execution_count": null,
      "id": "01a95d9b-52e5-4f13-87d2-b925d0feccab",
      "metadata": {
        "id": "01a95d9b-52e5-4f13-87d2-b925d0feccab"
      },
      "outputs": [],
      "source": [
        "7 - 3"
      ]
    },
    {
      "cell_type": "code",
      "execution_count": null,
      "id": "e7806b18-a0cf-46cc-a78c-6aa00a88331e",
      "metadata": {
        "id": "e7806b18-a0cf-46cc-a78c-6aa00a88331e"
      },
      "outputs": [],
      "source": [
        "4 * 2"
      ]
    },
    {
      "cell_type": "code",
      "execution_count": null,
      "id": "fefaf854-a443-4b2a-baab-5b717390f2f7",
      "metadata": {
        "id": "fefaf854-a443-4b2a-baab-5b717390f2f7"
      },
      "outputs": [],
      "source": [
        "48 / 3"
      ]
    },
    {
      "cell_type": "markdown",
      "id": "9c6d6792-4a05-4fbf-8526-d0b6209c1894",
      "metadata": {
        "id": "9c6d6792-4a05-4fbf-8526-d0b6209c1894"
      },
      "source": [
        "Notice how the division cell output `16.0` and not `16`. Numbers in `python` (and essentially all programming langauges) have multiple different *types*.\n",
        "\n",
        "The other cells were using integers and operations which can only produce integers, so that was the resulting type. But dividion could produce a decimal value, so the resulting type is a `float`, short for *floating-point number*.\n",
        "\n",
        "If we wanted to force integer division, we can."
      ]
    },
    {
      "cell_type": "code",
      "execution_count": null,
      "id": "9fad1f9c-7a79-47fe-85c8-e56f02a0f2fc",
      "metadata": {
        "id": "9fad1f9c-7a79-47fe-85c8-e56f02a0f2fc"
      },
      "outputs": [],
      "source": [
        "48 // 3"
      ]
    },
    {
      "cell_type": "code",
      "execution_count": null,
      "id": "5c3ed0bc-62a6-40b6-a7f0-4bea9825ef65",
      "metadata": {
        "id": "5c3ed0bc-62a6-40b6-a7f0-4bea9825ef65"
      },
      "outputs": [],
      "source": [
        "50 // 3"
      ]
    },
    {
      "cell_type": "markdown",
      "id": "a5a039d6-ea02-4a84-8b8e-c880da33a998",
      "metadata": {
        "id": "a5a039d6-ea02-4a84-8b8e-c880da33a998"
      },
      "source": [
        "We can also work with Boolean values."
      ]
    },
    {
      "cell_type": "markdown",
      "id": "5c03f2d9-88b5-4411-b13c-455f5f838933",
      "metadata": {
        "id": "5c03f2d9-88b5-4411-b13c-455f5f838933"
      },
      "source": [
        "We can also work with Boolean values."
      ]
    },
    {
      "cell_type": "code",
      "execution_count": null,
      "id": "babcad8e-f976-4950-8e9d-e93869368573",
      "metadata": {
        "id": "babcad8e-f976-4950-8e9d-e93869368573"
      },
      "outputs": [],
      "source": [
        "True and False"
      ]
    },
    {
      "cell_type": "code",
      "execution_count": null,
      "id": "091870a5-20ef-4b5e-81f6-4e12f676ddb4",
      "metadata": {
        "id": "091870a5-20ef-4b5e-81f6-4e12f676ddb4"
      },
      "outputs": [],
      "source": [
        "False or True"
      ]
    },
    {
      "cell_type": "code",
      "execution_count": null,
      "id": "f9873531-1d7d-4ac1-b99c-014d68913260",
      "metadata": {
        "id": "f9873531-1d7d-4ac1-b99c-014d68913260"
      },
      "outputs": [],
      "source": [
        "not False"
      ]
    },
    {
      "cell_type": "code",
      "execution_count": null,
      "id": "acf0df38-9166-4815-a1c3-fbc00a0946c5",
      "metadata": {
        "id": "acf0df38-9166-4815-a1c3-fbc00a0946c5"
      },
      "outputs": [],
      "source": [
        "False or (True and not True)"
      ]
    },
    {
      "cell_type": "markdown",
      "id": "89894590-2e03-4bed-aa19-49135fee096c",
      "metadata": {
        "id": "89894590-2e03-4bed-aa19-49135fee096c"
      },
      "source": [
        "But right now, we basically have a calculator. `python` can do a lot more though, including save values to variables and work with character data."
      ]
    },
    {
      "cell_type": "code",
      "execution_count": null,
      "id": "ae954924-f08d-4725-b139-ad5694df5dce",
      "metadata": {
        "id": "ae954924-f08d-4725-b139-ad5694df5dce"
      },
      "outputs": [],
      "source": [
        "x = 4.5\n",
        "y = 5.5\n",
        "x + y"
      ]
    },
    {
      "cell_type": "markdown",
      "id": "e9a92f51-58bb-49ec-9489-c0a53149df46",
      "metadata": {
        "id": "e9a92f51-58bb-49ec-9489-c0a53149df46"
      },
      "source": [
        "Some common mathematical constants can be found in the `math` module, but that's not loaded by default. If we wanted to use things from this module we could `import` it. However, we're just interested in one constant from the module, so let's just import that."
      ]
    },
    {
      "cell_type": "code",
      "execution_count": null,
      "id": "1d627ca4-f400-4016-ac42-bf66c3d89778",
      "metadata": {
        "id": "1d627ca4-f400-4016-ac42-bf66c3d89778"
      },
      "outputs": [],
      "source": [
        "from math import pi"
      ]
    },
    {
      "cell_type": "markdown",
      "id": "d1ba8ca0-705e-44c8-a7f8-d25eb26ab690",
      "metadata": {
        "id": "d1ba8ca0-705e-44c8-a7f8-d25eb26ab690"
      },
      "source": [
        "Now we can perform computations with `pi`."
      ]
    },
    {
      "cell_type": "code",
      "execution_count": null,
      "id": "c4365bda-29d5-4eb6-b761-a8c20cfe2149",
      "metadata": {
        "id": "c4365bda-29d5-4eb6-b761-a8c20cfe2149"
      },
      "outputs": [],
      "source": [
        "d = x + y\n",
        "pi * d"
      ]
    },
    {
      "cell_type": "markdown",
      "id": "e1892e1f-6a90-4d1e-94db-f7554551ba4f",
      "metadata": {
        "id": "e1892e1f-6a90-4d1e-94db-f7554551ba4f"
      },
      "source": [
        "In virtually all programming languages, a sequence of characters is known as a `string`. They can be easily created in `python` using either single quotes (`'`) or double quotes (`\"`)."
      ]
    },
    {
      "cell_type": "code",
      "execution_count": null,
      "id": "4aca0b99-db8c-44c4-9b57-f8daaad762a6",
      "metadata": {
        "id": "4aca0b99-db8c-44c4-9b57-f8daaad762a6"
      },
      "outputs": [],
      "source": [
        "\"This is a string\""
      ]
    },
    {
      "cell_type": "code",
      "execution_count": null,
      "id": "7a4477be-a99e-4642-bda9-cd7dacbf5fd7",
      "metadata": {
        "id": "7a4477be-a99e-4642-bda9-cd7dacbf5fd7"
      },
      "outputs": [],
      "source": [
        "hello = \"Hello World!\""
      ]
    },
    {
      "cell_type": "code",
      "execution_count": null,
      "id": "c2360fb4-36b1-4cfc-b447-e5186f5d0831",
      "metadata": {
        "id": "c2360fb4-36b1-4cfc-b447-e5186f5d0831"
      },
      "outputs": [],
      "source": [
        "'This string uses single quotes'"
      ]
    },
    {
      "cell_type": "markdown",
      "id": "316a1d8b-5d81-437d-8b0e-ee6780c7dfe1",
      "metadata": {
        "id": "316a1d8b-5d81-437d-8b0e-ee6780c7dfe1"
      },
      "source": [
        "Strings are naturally used for input and output from programs. So far, we've been using a built-in feature of Jupyter to display the last returned value in a code cell, but we can also display output manually using the `print` function."
      ]
    },
    {
      "cell_type": "code",
      "execution_count": null,
      "id": "bbdeb350-d465-49e7-82ae-369e2700d56c",
      "metadata": {
        "id": "bbdeb350-d465-49e7-82ae-369e2700d56c"
      },
      "outputs": [],
      "source": [
        "print(hello)"
      ]
    },
    {
      "cell_type": "markdown",
      "id": "75f6e049-10b4-4eb0-b7b8-6cd17a1d46d5",
      "metadata": {
        "id": "75f6e049-10b4-4eb0-b7b8-6cd17a1d46d5"
      },
      "source": [
        "This also allows us to print multiple things from the same cell."
      ]
    },
    {
      "cell_type": "code",
      "execution_count": null,
      "id": "81048dc0-d0ff-4d18-aee0-3b9939fbed3e",
      "metadata": {
        "id": "81048dc0-d0ff-4d18-aee0-3b9939fbed3e"
      },
      "outputs": [],
      "source": [
        "print(\"Hello\")\n",
        "print(\"world\")"
      ]
    },
    {
      "cell_type": "markdown",
      "id": "63b33634-7974-4e7c-bdd4-38d797e23088",
      "metadata": {
        "id": "63b33634-7974-4e7c-bdd4-38d797e23088"
      },
      "source": [
        "By default, `print` always ends the output with a new line, as we saw in the above example. But what if we want to inlcude programmatically generated values in our output? There are two ways to do this.\n",
        "- String concatentation\n",
        "- `f`-strings"
      ]
    },
    {
      "cell_type": "code",
      "execution_count": null,
      "id": "b24d9de3-2cbb-417c-8b6f-870c090dd446",
      "metadata": {
        "id": "b24d9de3-2cbb-417c-8b6f-870c090dd446"
      },
      "outputs": [],
      "source": [
        "print(\"Hello, my name is \" + \"Matt\")\n",
        "name = \"Matt\"\n",
        "print(\"Hello, my name is \" + name)"
      ]
    },
    {
      "cell_type": "markdown",
      "id": "321725f7-c1c5-4d28-9b44-2b20d8deb51c",
      "metadata": {
        "id": "321725f7-c1c5-4d28-9b44-2b20d8deb51c"
      },
      "source": [
        "What if we wanted to inlcude a number in the string?"
      ]
    },
    {
      "cell_type": "code",
      "execution_count": null,
      "id": "cd93a254-8046-4e50-80a2-6e51f4c11b5f",
      "metadata": {
        "id": "cd93a254-8046-4e50-80a2-6e51f4c11b5f"
      },
      "outputs": [],
      "source": [
        "print(\"The value of pi is \" + pi)"
      ]
    },
    {
      "cell_type": "markdown",
      "id": "32772f69-f4ed-4a51-a342-2cb54398313d",
      "metadata": {
        "id": "32772f69-f4ed-4a51-a342-2cb54398313d"
      },
      "source": [
        "What happended here? Well, we've encountered those pesky types again. `python` knows how to concatenate two strings together, but it's not sure what to do with a string and floating point number. If we had the value of pi as a string already, we wouldn't have this issue."
      ]
    },
    {
      "cell_type": "code",
      "execution_count": null,
      "id": "6ba15bc5-fd0f-4cb6-97d2-123e62743dd8",
      "metadata": {
        "id": "6ba15bc5-fd0f-4cb6-97d2-123e62743dd8"
      },
      "outputs": [],
      "source": [
        "print(\"The value of pi is \" + str(pi))"
      ]
    },
    {
      "cell_type": "markdown",
      "id": "7e04f34f-d1cd-473e-a87e-0e19548ca3fd",
      "metadata": {
        "id": "7e04f34f-d1cd-473e-a87e-0e19548ca3fd"
      },
      "source": [
        "But that's a bit cumbersome. Fortunately there is a better way using `f`-strings or formatted strings. If we prefix a string with an `f`, we can use `{}` to cause it to insert formatted values for us."
      ]
    },
    {
      "cell_type": "code",
      "execution_count": null,
      "id": "678e0f7b-61ff-43d3-b589-d86739fa9fc7",
      "metadata": {
        "id": "678e0f7b-61ff-43d3-b589-d86739fa9fc7"
      },
      "outputs": [],
      "source": [
        "print(f\"The value of pi is {pi}\")"
      ]
    },
    {
      "cell_type": "markdown",
      "id": "c818cf9b-088d-4812-813a-6ee24b1fbda6",
      "metadata": {
        "id": "c818cf9b-088d-4812-813a-6ee24b1fbda6"
      },
      "source": [
        "Another advantage of `f`-strings is that we can do some in-place formatting. Notice that the value of pi is printed with a lot of decimal places. Maybe we only want the first three digits of pi..."
      ]
    },
    {
      "cell_type": "code",
      "execution_count": null,
      "id": "9e87176a-9e1e-4c83-a4d9-c7ded2a29689",
      "metadata": {
        "id": "9e87176a-9e1e-4c83-a4d9-c7ded2a29689"
      },
      "outputs": [],
      "source": [
        "print(f\"The value of pi is {pi:.3}\")"
      ]
    },
    {
      "cell_type": "markdown",
      "id": "449c0603-a736-4bb1-af1f-c866e1314f0c",
      "metadata": {
        "id": "449c0603-a736-4bb1-af1f-c866e1314f0c"
      },
      "source": [
        "### Making Decisions\n",
        "\n",
        "The primary way to make decisions in python is to use `if` statments, which only execute a block of code if a Boolean condition is `True`."
      ]
    },
    {
      "cell_type": "code",
      "execution_count": null,
      "id": "764b28f5-0fa9-452d-a3fc-8bc05361c6c8",
      "metadata": {
        "id": "764b28f5-0fa9-452d-a3fc-8bc05361c6c8"
      },
      "outputs": [],
      "source": [
        "if True:\n",
        "    print(\"Wow! A True if statement\")"
      ]
    },
    {
      "cell_type": "code",
      "execution_count": null,
      "id": "798b2b06-9f0e-4e06-927c-d5ebbbb9cbbb",
      "metadata": {
        "id": "798b2b06-9f0e-4e06-927c-d5ebbbb9cbbb"
      },
      "outputs": [],
      "source": [
        "if False:\n",
        "    print(\"Oh no, a False if statement\")"
      ]
    },
    {
      "cell_type": "markdown",
      "id": "3c951f0d-cb1e-4496-bde4-ed389d518eb8",
      "metadata": {
        "id": "3c951f0d-cb1e-4496-bde4-ed389d518eb8"
      },
      "source": [
        "Optionally, we can execute a different code snippet if the condition is false by adding an `else` clause."
      ]
    },
    {
      "cell_type": "code",
      "execution_count": null,
      "id": "2b478d55-8a8c-408c-89c1-8f02eb9fa048",
      "metadata": {
        "id": "2b478d55-8a8c-408c-89c1-8f02eb9fa048"
      },
      "outputs": [],
      "source": [
        "b = True\n",
        "if b:\n",
        "    print(\"b was True\")\n",
        "else:\n",
        "    print(\"b was False\")"
      ]
    },
    {
      "cell_type": "markdown",
      "id": "38a32726-fb48-4531-8eb9-474020ff4797",
      "metadata": {
        "id": "38a32726-fb48-4531-8eb9-474020ff4797"
      },
      "source": [
        "Now for a bit more complicated example:"
      ]
    },
    {
      "cell_type": "code",
      "execution_count": null,
      "id": "82f7e6c1-f244-44b0-b9ed-eaa6971530f2",
      "metadata": {
        "id": "82f7e6c1-f244-44b0-b9ed-eaa6971530f2"
      },
      "outputs": [],
      "source": [
        "b1 = False\n",
        "b2 = True\n",
        "\n",
        "if b1:\n",
        "    print(\"b1 is True so I don't care about b2\")\n",
        "else:\n",
        "    if b2:\n",
        "        print(\"b1 is False, but at least b2 is True\")\n",
        "    else:\n",
        "        print(\"Both b1 and b2 are False :(\")"
      ]
    },
    {
      "cell_type": "markdown",
      "id": "fea88d13-b4f5-4068-878f-60fe29f30b64",
      "metadata": {
        "id": "fea88d13-b4f5-4068-878f-60fe29f30b64"
      },
      "source": [
        "These nested `if` statments are so common that we can actually combine them using an else-if or `elif` clause."
      ]
    },
    {
      "cell_type": "code",
      "execution_count": null,
      "id": "13147287-20ee-422a-a2e2-add42baa5f58",
      "metadata": {
        "id": "13147287-20ee-422a-a2e2-add42baa5f58"
      },
      "outputs": [],
      "source": [
        "if b1:\n",
        "    print(\"b1 is True so I don't care about b2\")\n",
        "elif b2:\n",
        "    print(\"b1 is False, but at least b2 is True\")\n",
        "else:\n",
        "    print(\"Both b1 and b2 are False\")"
      ]
    },
    {
      "cell_type": "markdown",
      "id": "814cda84-6a15-4581-a5fe-fc1e7e51c906",
      "metadata": {
        "id": "814cda84-6a15-4581-a5fe-fc1e7e51c906"
      },
      "source": [
        "In this case, python will only execute the first branch which has a True condition."
      ]
    },
    {
      "cell_type": "markdown",
      "id": "d0251206-dbbc-4de9-a72a-508c2023a5ac",
      "metadata": {
        "id": "d0251206-dbbc-4de9-a72a-508c2023a5ac"
      },
      "source": [
        "### Higher-Level Data Structures\n",
        "\n",
        "By default, `python` also includes several extremely useful data structures,\n",
        "\n",
        "- `list`: A mutable ordered list of values.\n",
        "- `tuple`: An immutable ordered tuple of values.\n",
        "- `dict`: A dictionary mapping keys to values.\n",
        "- `set`: An unordered*, duplicate-free collection of values.\n",
        "\n",
        "The particularly important ones to us today are the `list` and `dict`.\n",
        "\n",
        "*: Of course, the items are stored in some order in the computer, this just means that we can't be sure what order it will give us the items."
      ]
    },
    {
      "cell_type": "markdown",
      "id": "5bb249e6-9470-4591-9140-59b035fcd598",
      "metadata": {
        "id": "5bb249e6-9470-4591-9140-59b035fcd598"
      },
      "source": [
        "#### Lists\n",
        "\n",
        "A `list` is declared with square brackets (`[]`) containing values seperated by commas."
      ]
    },
    {
      "cell_type": "code",
      "execution_count": null,
      "id": "a54b4d61-0f93-4f80-998e-cf458e65e8e0",
      "metadata": {
        "id": "a54b4d61-0f93-4f80-998e-cf458e65e8e0"
      },
      "outputs": [],
      "source": [
        "l = [1, 2, 3, 4]\n",
        "l"
      ]
    },
    {
      "cell_type": "markdown",
      "id": "6f9c94e3-5fb2-4502-8a49-05cd4e38aadd",
      "metadata": {
        "id": "6f9c94e3-5fb2-4502-8a49-05cd4e38aadd"
      },
      "source": [
        "Some useful list operatations include\n",
        "\n",
        "- `len`: Find the number of values in a list.\n",
        "- `append`: Add a new element to the end of a list.\n",
        "- `reverse`: Reverse the order of elements in a list.\n",
        "- `remove`: Remove the first occurance of a value from a list.\n",
        "- `sort`: Sort a list.\n",
        "- `[]`: Indexing into a list.\n",
        "- `+`: Concatentate two lists."
      ]
    },
    {
      "cell_type": "code",
      "execution_count": null,
      "id": "4fa2ebd9-d96d-4bfa-ab83-1238f99a2bd1",
      "metadata": {
        "id": "4fa2ebd9-d96d-4bfa-ab83-1238f99a2bd1"
      },
      "outputs": [],
      "source": [
        "print(len(l))\n",
        "l.append(5)\n",
        "print(l)\n",
        "l.reverse()\n",
        "print(l)\n",
        "l.sort()\n",
        "print(l)"
      ]
    },
    {
      "cell_type": "markdown",
      "id": "2f3b5cc7-5261-46da-9cd5-dc0f665448fe",
      "metadata": {
        "id": "2f3b5cc7-5261-46da-9cd5-dc0f665448fe"
      },
      "source": [
        "To get a value out of a list, we index into it with square brackets (`[]`). In addition to getting signle values, we can also *slice* a list to get more than one. Notice that\n",
        "\n",
        "- The index of the first rule is `0`\n",
        "- Negative indexes start from the back of the list\n",
        "- When slicing a list, the first number is inclusive but the last one is exclusive."
      ]
    },
    {
      "cell_type": "code",
      "execution_count": null,
      "id": "98a64acf-80f7-4ba5-b046-1b36ae2fa535",
      "metadata": {
        "id": "98a64acf-80f7-4ba5-b046-1b36ae2fa535"
      },
      "outputs": [],
      "source": [
        "print(l[0])\n",
        "print(l[-1])\n",
        "print(l[1:4])"
      ]
    },
    {
      "cell_type": "markdown",
      "id": "2233b127-a6f7-4c47-b15e-9554c34cb430",
      "metadata": {
        "id": "2233b127-a6f7-4c47-b15e-9554c34cb430"
      },
      "source": [
        "A few other notable properties about lists:\n",
        "\n",
        "- Lists can have duplicate elements.\n",
        "- Lists can have elements of multiple types."
      ]
    },
    {
      "cell_type": "code",
      "execution_count": null,
      "id": "23d9958d-4fe2-4421-985e-7f15b5e3d068",
      "metadata": {
        "id": "23d9958d-4fe2-4421-985e-7f15b5e3d068"
      },
      "outputs": [],
      "source": [
        "l.append(3)\n",
        "l.append(True)\n",
        "l + [\"hello\", \"world\"]"
      ]
    },
    {
      "cell_type": "markdown",
      "id": "5b5372e0-eb07-4195-ab2d-73f17eee4785",
      "metadata": {
        "id": "5b5372e0-eb07-4195-ab2d-73f17eee4785"
      },
      "source": [
        "#### Tuples\n",
        "\n",
        "Tuples are similar to lists in a lot of ways, except that a tuple cannot change after the it has been created. In python, typles are declared with parenthesis (`()`) and a sequence of comma seperated values."
      ]
    },
    {
      "cell_type": "code",
      "execution_count": null,
      "id": "4d28ca91-d4bf-4b03-b5e2-96b22c0752c5",
      "metadata": {
        "id": "4d28ca91-d4bf-4b03-b5e2-96b22c0752c5"
      },
      "outputs": [],
      "source": [
        "t = (1, 2, 3)\n",
        "t"
      ]
    },
    {
      "cell_type": "markdown",
      "id": "50c7ab8a-5e17-4fd4-a247-dfbb57bf3009",
      "metadata": {
        "id": "50c7ab8a-5e17-4fd4-a247-dfbb57bf3009"
      },
      "source": [
        "Tuples also can be indexed and sliced just like a list, in fact a lot of list operations also work on tuples."
      ]
    },
    {
      "cell_type": "markdown",
      "id": "ebf818d9-509c-4809-acb6-0a59f6f28687",
      "metadata": {
        "id": "ebf818d9-509c-4809-acb6-0a59f6f28687"
      },
      "source": [
        "#### Dictionaries\n",
        "\n",
        "A dictionary (or `dict`) is a mapping from keys to values. This data structure is extremely flexible and very important to NetworkX, which using a dict-of-dicts model for graphs.\n",
        "\n",
        "A dict can be declared using curly braces (`{}`) containing comma separated key-value pairs which are themselves seprated by a colon."
      ]
    },
    {
      "cell_type": "code",
      "execution_count": null,
      "id": "fe468f59-309a-431a-bae6-5edb1496de48",
      "metadata": {
        "id": "fe468f59-309a-431a-bae6-5edb1496de48"
      },
      "outputs": [],
      "source": [
        "favorites = {'fruit' : 'pineapple', 'OS' : 'nixOS', 'color': 'orange'}\n",
        "favorites"
      ]
    },
    {
      "cell_type": "markdown",
      "id": "681e9485-8246-4183-9d52-61c2050ba569",
      "metadata": {
        "id": "681e9485-8246-4183-9d52-61c2050ba569"
      },
      "source": [
        "Like with lists, we can get a single value by indexing into the dict. Other useful operations include\n",
        "\n",
        "- `len`: Return the number of key-value pairs in the tuple.\n",
        "- `pop`: Remove a key and it's assoicated value from the dictionary.\n",
        "- `items`: Returns a list of key-value tuples.\n",
        "- `keys`: Returns a list of just the keys of the dictionary.\n",
        "- `values`: Returns a list of just the values in the dictionary."
      ]
    },
    {
      "cell_type": "code",
      "execution_count": null,
      "id": "05ff3001-9395-424e-8278-8a4ea69caf54",
      "metadata": {
        "id": "05ff3001-9395-424e-8278-8a4ea69caf54"
      },
      "outputs": [],
      "source": [
        "print(favorites['color'])\n",
        "print(len(favorites))\n",
        "print(favorites.items())\n",
        "print(favorites.keys())\n",
        "print(favorites.values())\n",
        "favorites.pop('OS')\n",
        "print(favorites)\n",
        "favorites['editor'] = 'nvim'\n",
        "favorites"
      ]
    },
    {
      "cell_type": "markdown",
      "id": "bcf78080-0b68-4adf-a6c5-8e37e3aa75be",
      "metadata": {
        "id": "bcf78080-0b68-4adf-a6c5-8e37e3aa75be"
      },
      "source": [
        "### Loops\n",
        "\n",
        "Sometimes we want to repeat a piece of code multiple times. This can be done easily with a loop. Python has two types of loops, a `while` loop and a `for` loop.\n",
        "\n",
        "- `while`: A while loop loops until a Boolean condition evaluates to `False`. Think of this like a repeated `if` statement were we repeat until the condition is false.\n",
        "- `for`: A for loop loops a specific number of times, typically over a collection of objects like a list."
      ]
    },
    {
      "cell_type": "code",
      "execution_count": null,
      "id": "9f4f9c62-d095-4dec-9d38-1d3e7e00ec6a",
      "metadata": {
        "id": "9f4f9c62-d095-4dec-9d38-1d3e7e00ec6a"
      },
      "outputs": [],
      "source": [
        "i = 10\n",
        "while i > 0:\n",
        "    print(f\"Loop counter now at {i}\")\n",
        "    i = i - 1"
      ]
    },
    {
      "cell_type": "code",
      "execution_count": null,
      "id": "03b7f61b-b661-46d8-aef7-73aa1c431a64",
      "metadata": {
        "id": "03b7f61b-b661-46d8-aef7-73aa1c431a64"
      },
      "outputs": [],
      "source": [
        "from random import random\n",
        "\n",
        "count = 0\n",
        "while random() <= 0.75:\n",
        "    count = count + 1\n",
        "    print(f\"Loop has executed {count} times!\")"
      ]
    },
    {
      "cell_type": "markdown",
      "id": "bf18ec56-6e5c-410d-9335-fa352b9a93e7",
      "metadata": {
        "id": "bf18ec56-6e5c-410d-9335-fa352b9a93e7"
      },
      "source": [
        "Here we have a `for` loop over a list of ascending numbers. This is so common, that we can use the `range` function to get an iterator from 0 to one minus the argument."
      ]
    },
    {
      "cell_type": "code",
      "execution_count": null,
      "id": "792a7b78-fdd2-47bf-9a4d-114f2034a77d",
      "metadata": {
        "id": "792a7b78-fdd2-47bf-9a4d-114f2034a77d"
      },
      "outputs": [],
      "source": [
        "for i in [0, 1, 2, 3, 4, 5, 6, 7, 8, 9, 10]:\n",
        "    print(i * i)\n",
        "\n",
        "for i in range(11):\n",
        "    print(i ** 2)"
      ]
    },
    {
      "cell_type": "markdown",
      "id": "d290c919-3321-492c-a622-384f6c85f045",
      "metadata": {
        "id": "d290c919-3321-492c-a622-384f6c85f045"
      },
      "source": [
        "Two other loop commands are `continue` and `break`. The `continue` keyword starts the loop at the next iteration and `break` exits the loop early."
      ]
    },
    {
      "cell_type": "code",
      "execution_count": null,
      "id": "7d16c681-3186-477f-86e3-23ac61221214",
      "metadata": {
        "id": "7d16c681-3186-477f-86e3-23ac61221214"
      },
      "outputs": [],
      "source": [
        "count = 0\n",
        "while True:\n",
        "    count = count + 1\n",
        "    if count % 2 == 1:\n",
        "        continue\n",
        "    print(f\"Even count: {count}\")\n",
        "    if count > 10:\n",
        "        break"
      ]
    },
    {
      "cell_type": "markdown",
      "id": "35f1be6a-ffb1-4f1f-be34-9ac0c333f15d",
      "metadata": {
        "id": "35f1be6a-ffb1-4f1f-be34-9ac0c333f15d"
      },
      "source": [
        "### Comprehensions\n",
        "\n",
        "What if we wanted to build a list programmatically? We could use loops"
      ]
    },
    {
      "cell_type": "code",
      "execution_count": null,
      "id": "fa5b7fb5-0201-4b0a-a81a-0a50a058add6",
      "metadata": {
        "id": "fa5b7fb5-0201-4b0a-a81a-0a50a058add6"
      },
      "outputs": [],
      "source": [
        "l = []\n",
        "for e in range(21):\n",
        "    l.append(e)\n",
        "\n",
        "l"
      ]
    },
    {
      "cell_type": "markdown",
      "id": "51d87004-ee24-4e9f-999e-0fa5bb5bfe18",
      "metadata": {
        "id": "51d87004-ee24-4e9f-999e-0fa5bb5bfe18"
      },
      "source": [
        "A faster way to do this is with a *list comprehension*, where we tell python directly how to build the list."
      ]
    },
    {
      "cell_type": "code",
      "execution_count": null,
      "id": "49300de7-58c3-47e3-9d7a-16581857a97b",
      "metadata": {
        "id": "49300de7-58c3-47e3-9d7a-16581857a97b"
      },
      "outputs": [],
      "source": [
        "l = [x for x in range(21)]\n",
        "l"
      ]
    },
    {
      "cell_type": "markdown",
      "id": "f13f2e2c-d2aa-45fd-98a8-11be89d167d0",
      "metadata": {
        "id": "f13f2e2c-d2aa-45fd-98a8-11be89d167d0"
      },
      "source": [
        "Dictionaries also have comprehensions."
      ]
    },
    {
      "cell_type": "code",
      "execution_count": null,
      "id": "2c65c02b-afe2-417d-8990-8ad91113c769",
      "metadata": {
        "id": "2c65c02b-afe2-417d-8990-8ad91113c769"
      },
      "outputs": [],
      "source": [
        "d = { x : x * x for x in range(21)}\n",
        "d"
      ]
    },
    {
      "cell_type": "markdown",
      "id": "5f23be2f-b6de-44ad-a8d8-b0e978aaa686",
      "metadata": {
        "id": "5f23be2f-b6de-44ad-a8d8-b0e978aaa686"
      },
      "source": [
        "### Functions\n",
        "\n",
        "Our last topic for this python primer is functions, which let us abstract away and reuse code.\n",
        "\n",
        "Functions are defined with the `def` keyword, followed by the name of the function and the arguments for the function. The list of arguments is a common separated list of variable names which are bound when the function is called. Any python code can go inside a function, from the simple example below to complex graph algorithms."
      ]
    },
    {
      "cell_type": "code",
      "execution_count": null,
      "id": "b1a40985-47e0-4ebd-809d-3cdad90b23f3",
      "metadata": {
        "id": "b1a40985-47e0-4ebd-809d-3cdad90b23f3"
      },
      "outputs": [],
      "source": [
        "def greet(name):\n",
        "    print(f\"Hello, {name}! Welcome to NetSci.\")\n",
        "\n",
        "greet(\"Matt\")\n",
        "greet(\"Mary\")"
      ]
    },
    {
      "cell_type": "markdown",
      "id": "b4437ff2-2038-49de-983e-9f3ae0f04857",
      "metadata": {
        "id": "b4437ff2-2038-49de-983e-9f3ae0f04857"
      },
      "source": [
        "# NetworkX\n",
        "\n",
        "Now that we can all read python code, it's time to turn our attention to the main reason we're here: to analyze graphs! NetworkX is the most popular graph analysis library for python, with over 50 million downloads in April 2024. Several strengths of NetworkX are\n",
        "\n",
        "- Easy to install: It's a pure python library which does not require extensions written in other programming languages.\n",
        "- Flexiblity: The graph data structure is written using python dictionaries, allowing you to mix and match what type of data is stored in the graph and store multiple attributes at each node and edge.\n",
        "- Comprehensive: NetworkX has approximately 400 different graph algorithms, covering many topics in graph theory and network analysis\n",
        "\n",
        "Much of the content for this tutorial comes from [Network Analysis Made Simple](https://ericmjl.github.io/Network-Analysis-Made-Simple/) by Eric Ma, an former NetworkX maintainer.\n",
        "\n",
        "## NetworkX Graphs\n",
        "\n",
        "There are 4 types of graph in NetworkX:\n",
        "\n",
        "- `Graph`: Undirected simple graphs\n",
        "- `DiGraph`: Directed graphs\n",
        "- `MultiGraph`: Undirected graphs allowing multiple edges between nodes\n",
        "- `MultiDiGraph`: Directed graphs allowing multiple edges between nodes\n",
        "\n",
        "Let's create a empty graph."
      ]
    },
    {
      "cell_type": "code",
      "source": [
        "!pip install nx-cugraph-cu12 --extra-index-url=https://pypi.nvidia.com"
      ],
      "metadata": {
        "id": "RPBHCMH-aV45"
      },
      "execution_count": null,
      "outputs": [],
      "id": "RPBHCMH-aV45"
    },
    {
      "cell_type": "code",
      "execution_count": null,
      "id": "0a364a6e-66f6-4ebc-b79a-94738a7ae318",
      "metadata": {
        "id": "0a364a6e-66f6-4ebc-b79a-94738a7ae318"
      },
      "outputs": [],
      "source": [
        "import networkx as nx\n",
        "G = nx.Graph()\n",
        "\n",
        "print(G)"
      ]
    },
    {
      "cell_type": "markdown",
      "id": "7b9e7560-a7cf-4aad-ae52-e22ddb880727",
      "metadata": {
        "id": "7b9e7560-a7cf-4aad-ae52-e22ddb880727"
      },
      "source": [
        "The NetworkX graph data structure is modelled as a dict-of-dict-of-dicts. The keys of the first dictionary (`G[u]`) are nodes in the graph, mapped to adjacency dictionaries keyed by the adjacent node. The values of the second layer of dictionaries (`G[u][v]`) are edge attribute dictionaries."
      ]
    },
    {
      "cell_type": "code",
      "execution_count": null,
      "id": "4b56717a-6cf4-47d6-aa98-33eda5f2944e",
      "metadata": {
        "id": "4b56717a-6cf4-47d6-aa98-33eda5f2944e"
      },
      "outputs": [],
      "source": [
        "G.add_node(1)\n",
        "G.add_nodes_from([2,3])\n",
        "\n",
        "print(G)"
      ]
    },
    {
      "cell_type": "code",
      "execution_count": null,
      "id": "5b703319-b529-4a2d-a8a3-05b854b7950c",
      "metadata": {
        "id": "5b703319-b529-4a2d-a8a3-05b854b7950c"
      },
      "outputs": [],
      "source": [
        "G.add_edge(2, 3)\n",
        "\n",
        "print(G)"
      ]
    },
    {
      "cell_type": "markdown",
      "id": "b50efc8e-e7f4-40c0-b17d-65196e3bc905",
      "metadata": {
        "id": "b50efc8e-e7f4-40c0-b17d-65196e3bc905"
      },
      "source": [
        "Since the graph is structured with nested dictionaries, we can naturally access data in a dictionary-like style."
      ]
    },
    {
      "cell_type": "code",
      "execution_count": null,
      "id": "05ef9640-1ebc-4483-8766-a590d7efcf8d",
      "metadata": {
        "id": "05ef9640-1ebc-4483-8766-a590d7efcf8d"
      },
      "outputs": [],
      "source": [
        "print(G.nodes[1])\n",
        "print(G.edges[2, 3])"
      ]
    },
    {
      "cell_type": "markdown",
      "id": "caf59fb3-e51b-4472-9b73-08f1e908e57d",
      "metadata": {
        "id": "caf59fb3-e51b-4472-9b73-08f1e908e57d"
      },
      "source": [
        "Here we can see that both of the commands output `{}`, i.e. an empty dict. That's because there are no node or edge attributes on the graph. We can set any number of node or edge attributes using either the `set_node_attributes` (respectively `set_edge_attributes`) functions or by directly accessing the dictionaries of the `G`. Personally, I think that the later is easier to read and more itutitive to think about."
      ]
    },
    {
      "cell_type": "code",
      "execution_count": null,
      "id": "1bb7f4e7-df07-42ca-8046-05fcb59110b6",
      "metadata": {
        "id": "1bb7f4e7-df07-42ca-8046-05fcb59110b6"
      },
      "outputs": [],
      "source": [
        "nx.set_node_attributes(G, {1 : {'color' : 'red'}, 2 : {'color' : 'blue'}, 3 : {'color' : 'green'}})\n",
        "print(G.nodes[1])\n",
        "G[2][3]['weight'] = 5\n",
        "print(G.edges[2, 3])"
      ]
    },
    {
      "cell_type": "markdown",
      "source": [
        "We can also add nodes and edges with their attributes directly."
      ],
      "metadata": {
        "id": "ZochhLjkwgsO"
      },
      "id": "ZochhLjkwgsO"
    },
    {
      "cell_type": "code",
      "source": [
        "G.add_node(\"1\", color=\"orange\", size=\"10\")\n",
        "G.add_edge(\"1\", 1, weight=2)\n",
        "print(G.nodes[\"1\"])\n",
        "print(G.edges[\"1\", 1])"
      ],
      "metadata": {
        "id": "8qdJ5z43wlO2"
      },
      "id": "8qdJ5z43wlO2",
      "execution_count": null,
      "outputs": []
    },
    {
      "cell_type": "markdown",
      "id": "ac5ec9cf-c93c-43e1-a78e-e6f2b49f7125",
      "metadata": {
        "id": "ac5ec9cf-c93c-43e1-a78e-e6f2b49f7125"
      },
      "source": [
        "NetworkX also contains functions to create a lot of simple or classical graphs. One example is the path graph, a straight line graph connected to the nodes above and below it."
      ]
    },
    {
      "cell_type": "code",
      "execution_count": null,
      "id": "3d45c151-ff36-42cd-a34d-426961f19629",
      "metadata": {
        "id": "3d45c151-ff36-42cd-a34d-426961f19629"
      },
      "outputs": [],
      "source": [
        "H = nx.path_graph(10)\n",
        "print(H.nodes)\n",
        "print(H.edges)"
      ]
    },
    {
      "cell_type": "code",
      "execution_count": null,
      "id": "28cd158f-a22d-4bc5-8ad3-e6f95750f105",
      "metadata": {
        "id": "28cd158f-a22d-4bc5-8ad3-e6f95750f105"
      },
      "outputs": [],
      "source": [
        "G.add_nodes_from(H)\n",
        "G.nodes"
      ]
    },
    {
      "cell_type": "markdown",
      "id": "0598f903-cc3e-41ec-a371-c1483ae66f91",
      "metadata": {
        "id": "0598f903-cc3e-41ec-a371-c1483ae66f91"
      },
      "source": [
        "Know we see that `G` has all the nodes it originally had (which was a subset of `H`) and the nodes in `H`. This is **not** the same as"
      ]
    },
    {
      "cell_type": "code",
      "execution_count": null,
      "id": "86a2655a-ae43-40d5-9871-5e16e46cb897",
      "metadata": {
        "id": "86a2655a-ae43-40d5-9871-5e16e46cb897"
      },
      "outputs": [],
      "source": [
        "G.add_node(H)"
      ]
    },
    {
      "cell_type": "markdown",
      "id": "2b7cc802-2b6d-4500-acb9-9e1c811e2843",
      "metadata": {
        "id": "2b7cc802-2b6d-4500-acb9-9e1c811e2843"
      },
      "source": [
        "Which actually adds a `Graph` as a node in `G`. This feature arises naturally from the fact that python dictionaries can be used inside other dictionaries but does easily allow for graph analyses which model a network of networks."
      ]
    },
    {
      "cell_type": "code",
      "execution_count": null,
      "id": "a9496450-553c-4352-9e64-bbd8afe4d8fb",
      "metadata": {
        "id": "a9496450-553c-4352-9e64-bbd8afe4d8fb"
      },
      "outputs": [],
      "source": [
        "G.nodes"
      ]
    },
    {
      "cell_type": "markdown",
      "id": "57c95540-5679-4a9c-9c24-d42d418f9678",
      "metadata": {
        "id": "57c95540-5679-4a9c-9c24-d42d418f9678"
      },
      "source": [
        "## Graph Input/Output\n",
        "\n",
        "NetworkX supports reading and writing graphs from a number of common formats, including\n",
        "\n",
        "- Adjacency Matrix\n",
        "- Edge list\n",
        "- GML\n",
        "- Pandas Dataframes\n",
        "- Dot\n",
        "- [and more](https://networkx.org/documentation/stable/reference/readwrite/index.html)\n",
        "\n",
        "Let's get some datasets:\n",
        "- **Patents**: A graph containing citations between U.S. patents granted from January 1, 1963 to Decemember 30, 1999. This dataset has approximately 16.5 million edges between 3.8 million patents.\n",
        "\n",
        "  source: https://snap.stanford.edu/data/cit-Patents.html\n",
        "- **Infectious Dieases**: This network describes the face-to-face behavior of people during the INFECTIOUS: STAY AWAY exhibition at the Science Gallery in Dublin in 2009. Nodes represent exhibition visitors and edges face-to-face contacts that lasted longer than 20 seconds.\n",
        "\n",
        "  source: http://www.sociopatterns.org/datasets/infectious-sociopatterns-dynamic-contact-networks/\n",
        "\n",
        "  Although this version of the dataset is from 2014 and uses a slightly different file format than what is avaliable now.\n",
        "- **Airfare Prices**: This tiny graph reports the cost of a direct-flight airline ticket between the 6 largest U.S. cities in August 2021."
      ]
    },
    {
      "cell_type": "markdown",
      "source": [
        "The `pandas` library is another popular python library which provides dataframes, which are like tables or spreadsheets you interact with programmatically. As such, it has excellent functionality to parse CSV data."
      ],
      "metadata": {
        "id": "17y3O9y--fC3"
      },
      "id": "17y3O9y--fC3"
    },
    {
      "cell_type": "markdown",
      "source": [
        "This one is interesting because we need to do some processing on the graph to get the structure we want. Orignally, the graph is a multi-graph, but we're modelling it as a simple graph weighted by the number of interactions.\n",
        "\n",
        "What are the advantages and disadvantages of doing this?"
      ],
      "metadata": {
        "id": "Wpm32336WC2u"
      },
      "id": "Wpm32336WC2u"
    },
    {
      "cell_type": "markdown",
      "source": [
        "\n",
        "\n",
        "> It's simplier to analysis without having to\n",
        "\n"
      ],
      "metadata": {
        "id": "Y5_UhLdgX0b4"
      },
      "id": "Y5_UhLdgX0b4"
    },
    {
      "cell_type": "code",
      "source": [
        "!wget https://raw.githubusercontent.com/ericmjl/Network-Analysis-Made-Simple/master/data/sociopatterns-infectious/out.sociopatterns-infectious"
      ],
      "metadata": {
        "id": "J1ybPqw737hY"
      },
      "id": "J1ybPqw737hY",
      "execution_count": null,
      "outputs": []
    },
    {
      "cell_type": "code",
      "source": [
        "!head out.sociopatterns-infectious"
      ],
      "metadata": {
        "id": "_B1SJdbPOkP5"
      },
      "id": "_B1SJdbPOkP5",
      "execution_count": null,
      "outputs": []
    },
    {
      "cell_type": "code",
      "source": [
        "import pandas as pd\n",
        "\n",
        "df = pd.read_csv(\n",
        "    \"out.sociopatterns-infectious\", # File to read\n",
        "    sep=\" \",                        # Separated by spaces\n",
        "    skiprows=2,                     # First 2 rows are header data\n",
        "    header=None,                    # But don't try to read column names from it\n",
        ")\n",
        "\n",
        "# Drop the timestamp information and set column names\n",
        "df = df[[0, 1, 2]]\n",
        "df.columns = [\"person1\", \"person2\", \"weight\"]\n",
        "\n",
        "# Build the graph\n",
        "infect = nx.Graph()\n",
        "for row in df.iterrows():\n",
        "    p1 = row[1][\"person1\"]\n",
        "    p2 = row[1][\"person2\"]\n",
        "    if infect.has_edge(p1, p2):\n",
        "        infect.edges[p1, p2][\"weight\"] += 1\n",
        "    else:\n",
        "        infect.add_edge(p1, p2, weight=1)\n",
        "\n",
        "# Define an order to the nodes based on numeric values\n",
        "for n in sorted(infect.nodes()):\n",
        "    infect.nodes[n][\"order\"] = float(n)\n",
        "\n",
        "print(infect)"
      ],
      "metadata": {
        "id": "_AFmxscu4Y7L"
      },
      "id": "_AFmxscu4Y7L",
      "execution_count": null,
      "outputs": []
    },
    {
      "cell_type": "markdown",
      "source": [
        "Here we see a different way to creating a Graph. We have a weighted adjacency matrix describing the cost of a flight between each of the 6 largest U.S. cities as a `numpy` array. Numpy is the foundational scientific python library, offering high-performance vector and n-dimensional arrays, in a fashion similar to matlab. Since the array is indexed by integers and not airport codes, we have to relabel all the nodes with a separate call."
      ],
      "metadata": {
        "id": "9zTiOJQkNOXb"
      },
      "id": "9zTiOJQkNOXb"
    },
    {
      "cell_type": "code",
      "source": [
        "import numpy as np\n",
        "\n",
        "# Give the matrix as a list of lists\n",
        "air_array = np.array(\n",
        "    [\n",
        "        #JFK  LAX  ORD  IAH  PHX  PHL\n",
        "        [0,   243, 199, 208, 169, 183],  # JFK\n",
        "        [277, 0,   217, 123, 127, 252],  # LAX\n",
        "        [297, 197, 0,   197, 123, 177],  # ORD\n",
        "        [303, 169, 197, 0,   117, 117],  # IAH\n",
        "        [257, 127, 160, 117, 0,   319],  # PHX\n",
        "        [183, 332, 217, 117, 319, 0  ],  # PHL\n",
        "    ]\n",
        ")\n",
        "\n",
        "air_map = {0: \"JFK\", 1: \"LAX\", 2: \"ORD\", 3: \"IAH\", 4: \"PHX\", 5: \"PHL\"}\n",
        "\n",
        "# Create the graph\n",
        "airports = nx.from_numpy_array(air_array, create_using=nx.DiGraph)\n",
        "nx.relabel_nodes(airports, air_map, copy=False)\n",
        "\n",
        "print(airports)"
      ],
      "metadata": {
        "id": "1nQRfAAo5E1q"
      },
      "id": "1nQRfAAo5E1q",
      "execution_count": null,
      "outputs": []
    },
    {
      "cell_type": "markdown",
      "source": [
        "The patent dataset is pretty large, so we'll most like work with it during the dispatching section."
      ],
      "metadata": {
        "id": "_XANPmzObcGv"
      },
      "id": "_XANPmzObcGv"
    },
    {
      "cell_type": "code",
      "source": [
        "!wget https://snap.stanford.edu/data/cit-Patents.txt.gz"
      ],
      "metadata": {
        "id": "78AVM22e29CF"
      },
      "id": "78AVM22e29CF",
      "execution_count": null,
      "outputs": []
    },
    {
      "cell_type": "code",
      "source": [
        "import pandas as pd\n",
        "\n",
        "df = pd.read_csv(\"cit-Patents.txt.gz\",  # File to read\n",
        "                 compression=\"gzip\",    # It's a compressed file\n",
        "                 skiprows=4,            # Don't read the first 4 lines\n",
        "                 sep=\"\\t\",              # Values are separated by tabs\n",
        "                 names=[\"src\", \"dst\"],  # Specify column names\n",
        "                 dtype=\"int32\",         # Data type of values, 32 bit integer\n",
        ")\n",
        "\n",
        "patents = nx.from_pandas_edgelist(df, source=\"src\", target=\"dst\")\n",
        "patents.number_of_nodes(), patents.number_of_edges()"
      ],
      "metadata": {
        "id": "6PKJyoHe3Yx5"
      },
      "id": "6PKJyoHe3Yx5",
      "execution_count": null,
      "outputs": []
    },
    {
      "cell_type": "markdown",
      "source": [
        "So far, we've only been creating graphs, but we can write graph as well. The `write_weighted_edgelist` uses the edge attribute `weight` by default. While it _should_ be able to change were it gets the weight from, that doesn't seem possible right now."
      ],
      "metadata": {
        "id": "vuhVW_O8ULio"
      },
      "id": "vuhVW_O8ULio"
    },
    {
      "cell_type": "code",
      "source": [
        "nx.write_weighted_edgelist(airports, \"./airports.edges\")\n",
        "!cat ./airports.edges\n",
        "nx.write_gml(airports, \"./airports.gml\")\n",
        "!head ./airports.gml"
      ],
      "metadata": {
        "id": "qCYOcnXCUYXv"
      },
      "id": "qCYOcnXCUYXv",
      "execution_count": null,
      "outputs": []
    },
    {
      "cell_type": "markdown",
      "id": "691854b4-9800-44a0-a4b6-790334b1aa81",
      "metadata": {
        "id": "691854b4-9800-44a0-a4b6-790334b1aa81"
      },
      "source": [
        "## Graph Visualization\n",
        "\n",
        "Network visualization is very difficult for graphs of any size except the smallest. There are numerous ways to do this and even programs specifically dedicated to graph visualization such as [GraphViz](https://graphviz.org/) and [Gephi](https://gephi.org/). While NetworkX does offer some visualization capabilities built off of [`matplotlib`](https://matplotlib.org/), the de-facto visualization library, they are not as expansive as these more speaclized programs. The gateway to the NetworkX visualization API is `nx.draw()`."
      ]
    },
    {
      "cell_type": "code",
      "source": [
        "nx.draw(infect, with_labels=True)"
      ],
      "metadata": {
        "id": "xI2s_AV-ky1N"
      },
      "id": "xI2s_AV-ky1N",
      "execution_count": null,
      "outputs": []
    },
    {
      "cell_type": "markdown",
      "source": [
        "This hairball isn't very useful. In fact, most large node-link diagrams don't yeild very helpful information other than that a graph is sufficiently large or complex.\n",
        "\n",
        "We need a more principles approach to make any sense of the complexity of a network. One such package is [`nxviz`](https://github.com/ericmjl/nxviz), written by former NetworkX maintainer Eric Ma.\n",
        "\n",
        "**Warning:** `nxviz` does not appear to be actively maintained. While it still works right now, it may break at any point in the future."
      ],
      "metadata": {
        "id": "8rZ3F1NhlvoL"
      },
      "id": "8rZ3F1NhlvoL"
    },
    {
      "cell_type": "code",
      "source": [
        "!pip install nxviz\n",
        "import nxviz as nv\n",
        "from matplotlib import pyplot as plt"
      ],
      "metadata": {
        "id": "TxZVdCkSmF_M"
      },
      "id": "TxZVdCkSmF_M",
      "execution_count": null,
      "outputs": []
    },
    {
      "cell_type": "markdown",
      "source": [
        "The `nxviz` package has several popular layouts for large graph, including the arc layout, circos layout and a matrix plot."
      ],
      "metadata": {
        "id": "OEc9EFrApEAX"
      },
      "id": "OEc9EFrApEAX"
    },
    {
      "cell_type": "code",
      "source": [
        "nv.arc(nx.subgraph(infect, range(20)), sort_by=\"order\", node_color_by=\"order\")"
      ],
      "metadata": {
        "id": "c4aTsbq6oslY"
      },
      "id": "c4aTsbq6oslY",
      "execution_count": null,
      "outputs": []
    },
    {
      "cell_type": "code",
      "source": [
        "nv.circos(nx.subgraph(infect, range(20)))"
      ],
      "metadata": {
        "id": "GxxWQosSp13U"
      },
      "id": "GxxWQosSp13U",
      "execution_count": null,
      "outputs": []
    },
    {
      "cell_type": "code",
      "source": [
        "nv.matrix(nx.subgraph(infect, range(20)), node_color_by=\"order\")"
      ],
      "metadata": {
        "id": "BO-dWRdMqFpP"
      },
      "id": "BO-dWRdMqFpP",
      "execution_count": null,
      "outputs": []
    },
    {
      "cell_type": "markdown",
      "source": [
        "While there are a lot of advantages to using external tools to help visualize NetworkX graphs, there is still a compelling reason to do the visualization directly in NetworkX: you can take advantage of all the algorithms supported by NetworkX.\n",
        "\n",
        "The *traveling salesperson problem* is a personal favorite and asks for the shortest path through all the nodes which returns to the starting node. Consider the small graph below:"
      ],
      "metadata": {
        "id": "g7vIyNMxq4WW"
      },
      "id": "g7vIyNMxq4WW"
    },
    {
      "cell_type": "code",
      "source": [
        "import networkx.algorithms.approximation as nx_app\n",
        "import math\n",
        "\n",
        "G = nx.random_geometric_graph(20, radius=0.4, seed=3)\n",
        "pos = nx.get_node_attributes(G, \"pos\")\n",
        "\n",
        "# Depot should be at (0,0)\n",
        "pos[0] = (0.5, 0.5)\n",
        "\n",
        "nx.draw_networkx(G, pos)"
      ],
      "metadata": {
        "id": "cCIuMg-etPye"
      },
      "id": "cCIuMg-etPye",
      "execution_count": null,
      "outputs": []
    },
    {
      "cell_type": "markdown",
      "source": [
        "How would we highlight a route for the salesperson to travel? Rather than having to compute a route, find a way to export it and load it into another software we can do everything directly with NetworkX. Since the traveling salesperson problem is notouriously difficult, we'll use Christofides' approximation algorithm."
      ],
      "metadata": {
        "id": "cieY8mbnt-Uq"
      },
      "id": "cieY8mbnt-Uq"
    },
    {
      "cell_type": "code",
      "source": [
        "H = G.copy()\n",
        "\n",
        "# Calculating the distances between the nodes as edge's weight.\n",
        "for i in range(len(pos)):\n",
        "    for j in range(i + 1, len(pos)):\n",
        "        dist = math.hypot(pos[i][0] - pos[j][0], pos[i][1] - pos[j][1])\n",
        "        dist = dist\n",
        "        G.add_edge(i, j, weight=dist)\n",
        "\n",
        "# Compute the route\n",
        "cycle = nx_app.christofides(G, weight=\"weight\")\n",
        "edge_list = list(nx.utils.pairwise(cycle))\n",
        "\n",
        "print(\"The route of the traveller is:\", cycle)"
      ],
      "metadata": {
        "id": "cEfQx8eyuvQf"
      },
      "id": "cEfQx8eyuvQf",
      "execution_count": null,
      "outputs": []
    },
    {
      "cell_type": "code",
      "source": [
        "# Draw closest edges on each node only\n",
        "nx.draw_networkx_edges(H, pos, edge_color=\"blue\", width=0.5)\n",
        "\n",
        "# Draw the route\n",
        "nx.draw_networkx(\n",
        "    G,\n",
        "    pos,\n",
        "    with_labels=True,\n",
        "    edgelist=edge_list,\n",
        "    edge_color=\"red\",\n",
        "    node_size=200,\n",
        "    width=3,\n",
        ")\n",
        "\n",
        "plt.show()"
      ],
      "metadata": {
        "id": "HQ34V5Surdu2"
      },
      "id": "HQ34V5Surdu2",
      "execution_count": null,
      "outputs": []
    },
    {
      "cell_type": "markdown",
      "id": "0a177377-bc17-418e-bbef-317a125abda6",
      "metadata": {
        "id": "0a177377-bc17-418e-bbef-317a125abda6"
      },
      "source": [
        "## Graph Analysis\n",
        "\n",
        "NetworkX has an extensive set of [graph algorithms](https://networkx.org/documentation/stable/reference/algorithms/index.html) out of the box, with new ones popping up in virtually every release.\n",
        "\n",
        "### Spanning Trees & Arborescences\n",
        "\n",
        "An *arborescence* is like a directed spanning tree where each node has at most one parent. Only one node, the root of the arborescence, will have an in-degree of zero."
      ]
    },
    {
      "cell_type": "code",
      "source": [
        "air_arb = nx.DiGraph(nx.minimum_spanning_arborescence(airports).edges())\n",
        "help(nx.minimum_spanning_arborescence)\n",
        "airport_pos = {\"JFK\" : (-73.783, 40.633), \"LAX\" : (-118.407, 33.943), \"ORD\" : (-87.905,41.979), \"IAH\" : (-95.341,29.984), \"PHX\" : (-112.033,33.433), \"PHL\" : (-75.241,39.872)}\n",
        "nx.draw_networkx(air_arb, pos=airport_pos, arrows=True)"
      ],
      "metadata": {
        "id": "CUUA9sLhFuPy"
      },
      "id": "CUUA9sLhFuPy",
      "execution_count": null,
      "outputs": []
    },
    {
      "cell_type": "markdown",
      "source": [
        "While airline ticket prices might be asymmetric, generally speaking connectivity between airports is not. Let's convert this graph to an undirected one. Since I didn't say how to reconcile the different edge weights, NetworkX chooses arbitarily."
      ],
      "metadata": {
        "id": "L8lzaklvEBRN"
      },
      "id": "L8lzaklvEBRN"
    },
    {
      "cell_type": "code",
      "source": [
        "u_airports = nx.Graph(airports)\n",
        "print(f\"JFK -> LAX : USD${airports['JFK']['LAX']['weight']}\\nJFK <- LAX : USD${airports['LAX']['JFK']['weight']}\")\n",
        "print(f\"JFK -- LAX : USD${u_airports['JFK']['LAX']['weight']} == LAX -- JFK : USD${u_airports['LAX']['JFK']['weight']}\")"
      ],
      "metadata": {
        "id": "xVN_ypdHEhec"
      },
      "id": "xVN_ypdHEhec",
      "execution_count": null,
      "outputs": []
    },
    {
      "cell_type": "markdown",
      "source": [
        "If an airline wanted to run a minimal number of flights while still connecting all of the needed airports, that would be a spanning tree.\n",
        "\n",
        "If they were nice, we could have the minimal cost spanning tree."
      ],
      "metadata": {
        "id": "5vNNSA2FGgVG"
      },
      "id": "5vNNSA2FGgVG"
    },
    {
      "cell_type": "code",
      "source": [
        "nx.draw_networkx(nx.minimum_spanning_tree(u_airports), pos = airport_pos)"
      ],
      "metadata": {
        "id": "xfsBM8krGgsR"
      },
      "id": "xfsBM8krGgsR",
      "execution_count": null,
      "outputs": []
    },
    {
      "cell_type": "markdown",
      "source": [
        "But given the way airlines operate these days, I think a maximal price spanning tree might be more likely!"
      ],
      "metadata": {
        "id": "DQ4wqc73I_ws"
      },
      "id": "DQ4wqc73I_ws"
    },
    {
      "cell_type": "code",
      "source": [
        "nx.draw_networkx(nx.maximum_spanning_tree(u_airports), pos=airport_pos)"
      ],
      "metadata": {
        "id": "6ra7LRUJGfrb"
      },
      "id": "6ra7LRUJGfrb",
      "execution_count": null,
      "outputs": []
    },
    {
      "cell_type": "markdown",
      "source": [
        "Note that there is **not** a flight between `JFK` and `PHL`! That is the flight from `JFK` to `IAH` which happens to pass directly overhead in Philadelphia."
      ],
      "metadata": {
        "id": "S6oYDYSiJjZM"
      },
      "id": "S6oYDYSiJjZM"
    },
    {
      "cell_type": "markdown",
      "id": "c034b61e-9299-4067-9b0b-c27893cd7b69",
      "metadata": {
        "id": "c034b61e-9299-4067-9b0b-c27893cd7b69"
      },
      "source": [
        "## Case Study\n",
        "\n",
        "Recall the infectious diseases graph `infect`. Suppose that we're intrested in finding \"important\" nodes in that graph. Intuitively, these are people who are likely to infect a lot of other people. For a graph, that's its degree."
      ]
    },
    {
      "cell_type": "code",
      "source": [
        "infect.degree(7)"
      ],
      "metadata": {
        "id": "RO49iy4v0Bhn"
      },
      "id": "RO49iy4v0Bhn",
      "execution_count": null,
      "outputs": []
    },
    {
      "cell_type": "code",
      "source": [
        "list(infect.neighbors(7))"
      ],
      "metadata": {
        "id": "KtiyeP0A0ide"
      },
      "id": "KtiyeP0A0ide",
      "execution_count": null,
      "outputs": []
    },
    {
      "cell_type": "markdown",
      "source": [
        "Merely using the number of neighbors as the importance of the graph, how would we create an ordered list of the most important nodes? You might need to look at the documentation for the `sorted` function."
      ],
      "metadata": {
        "id": "xaI1SyHt0zNo"
      },
      "id": "xaI1SyHt0zNo"
    },
    {
      "cell_type": "code",
      "source": [
        "help(sorted)"
      ],
      "metadata": {
        "id": "DwXXNO9l3ybo"
      },
      "id": "DwXXNO9l3ybo",
      "execution_count": null,
      "outputs": []
    },
    {
      "cell_type": "markdown",
      "source": [
        "#### Solution"
      ],
      "metadata": {
        "id": "6ym9GRtkKHdl"
      },
      "id": "6ym9GRtkKHdl"
    },
    {
      "cell_type": "code",
      "source": [
        "sorted(infect.nodes(), key=lambda x: infect.degree(x), reverse=True)"
      ],
      "metadata": {
        "id": "VBswmpJB1BKn"
      },
      "id": "VBswmpJB1BKn",
      "execution_count": null,
      "outputs": []
    },
    {
      "cell_type": "markdown",
      "source": [
        "### Degree Centrality\n",
        "\n",
        "This is somewhat useful. It does tell us which nodes have the highest degree, although it doesn't tell us what that degree is. Moreover, while the degree of each node is simple and appealing, it is difficult to compare the measure to graphs of different sizes. That would be particularly useful if we were taking a series of subgraph and looking at how the importance of a node changes.\n",
        "\n",
        "Fortaunately, *degree centraility* introduces a normalization term. The degree centrality of a node $d$ is\n",
        "\n",
        "$$d = \\frac{n}{N}$$\n",
        "\n",
        "Where $n$ is the number of neighbors a node has and $N$ is the maximum number of neighbors it could possibily have."
      ],
      "metadata": {
        "id": "5blEWqg83n9U"
      },
      "id": "5blEWqg83n9U"
    },
    {
      "cell_type": "code",
      "source": [
        "idc = nx.degree_centrality(infect)\n",
        "idc"
      ],
      "metadata": {
        "id": "1CPqzubs8uU-"
      },
      "id": "1CPqzubs8uU-",
      "execution_count": null,
      "outputs": []
    },
    {
      "cell_type": "markdown",
      "source": [
        "That dictionary isn't sorted. We can display a sorted dictionary with this."
      ],
      "metadata": {
        "id": "S723fyuS9qKv"
      },
      "id": "S723fyuS9qKv"
    },
    {
      "cell_type": "code",
      "source": [
        "idc = dict(sorted(idc.items(), key=lambda item: item[1], reverse=True))\n",
        "idc"
      ],
      "metadata": {
        "id": "6g3bV8QR9T1B"
      },
      "id": "6g3bV8QR9T1B",
      "execution_count": null,
      "outputs": []
    },
    {
      "cell_type": "markdown",
      "source": [
        "But this list of numbers doesn't help us actually interpret what's going on in the graph. What we need is a visualization of some sort. The below cell computes the estimated cumulative distribution of the degree centrality."
      ],
      "metadata": {
        "id": "kvMcz6JNBBfv"
      },
      "id": "kvMcz6JNBBfv"
    },
    {
      "cell_type": "code",
      "source": [
        "lidc = list(nx.degree_centrality(infect).values())\n",
        "x, y = (np.sort(lidc), np.arange(1, len(lidc) + 1) / len(lidc))\n",
        "plt.scatter(x, y)\n",
        "plt.xlabel(\"degree centrality\")\n",
        "plt.ylabel(\"cumulative fraction\");"
      ],
      "metadata": {
        "id": "r8uOLfwvBA4a"
      },
      "id": "r8uOLfwvBA4a",
      "execution_count": null,
      "outputs": []
    },
    {
      "cell_type": "markdown",
      "source": [
        "We can see that the top three values are noticeably higher than the rest of the degree centrality values. We can look at those values using a dictionary comprehension."
      ],
      "metadata": {
        "id": "lQa4VR6HCRJw"
      },
      "id": "lQa4VR6HCRJw"
    },
    {
      "cell_type": "code",
      "source": [
        "{ n : dc for n, dc in idc.items() if dc > 0.081 }"
      ],
      "metadata": {
        "id": "VyDgml9FC3WF"
      },
      "id": "VyDgml9FC3WF",
      "execution_count": null,
      "outputs": []
    },
    {
      "cell_type": "markdown",
      "source": [
        "Perhaps now we can conclude something about the relative importance of nodes 51, 272, 235 and 195 in the graph."
      ],
      "metadata": {
        "id": "lF_4o2yHEnno"
      },
      "id": "lF_4o2yHEnno"
    },
    {
      "cell_type": "markdown",
      "source": [
        "NetworkX supports over 20 types of centrality measures, such as:\n",
        "\n",
        "- Degree centrality\n",
        "- Eigenvector centrality\n",
        "- Katz centrality\n",
        "- Closeness centrality\n",
        "- Current flow closeness centrality\n",
        "- Betweenness centrality\n",
        "- Edge betweeness centrality\n",
        "- Current flow betweenness centrality\n",
        "- Communicability betweenness centrality\n",
        "- Group centrality\n",
        "- Load centrality\n",
        "- Subgraph centrality\n",
        "- Harmonic centrality\n",
        "- Dispersion\n",
        "- Reaching centrality\n",
        "- Percolation centrality\n",
        "- Second order centrality\n",
        "- Trophic centrality\n",
        "- Trophic centrality\n",
        "- VoteRank\n",
        "- Laplacian centrality"
      ],
      "metadata": {
        "id": "ObnnDtVd-pii"
      },
      "id": "ObnnDtVd-pii"
    },
    {
      "cell_type": "markdown",
      "id": "8ac43c6d-5316-4832-ac54-48f9c5b1142f",
      "metadata": {
        "id": "8ac43c6d-5316-4832-ac54-48f9c5b1142f"
      },
      "source": [
        "## Dispatching\n",
        "\n",
        "Throughout this tutorial, we've seen how to use NetworkX. However, one if it's selling points, that it's a pure python library which can be easily installed and takes advantages of flexible built-in python data structures comes at a cost.\n",
        "\n",
        "The library is slow for large, real-world data sets.\n",
        "\n",
        "Starting in NetworkX 3.0, we've introduced a new *dispatching* system to call alternative implementations of certain algorithms. Notably, these implementations can be multi-threaded, GPU-accelerated or written in a more performant programming language like C. These improvements don't change the NetworkX API we've been exploring and only require one or two lines of code to enable.\n",
        "\n",
        "### NetworkX Backends\n",
        "\n",
        "Currently there are three available backends, although we hope more will be published in the future.\n",
        "\n",
        "- `nx-cugraph`: A GPU accelerated backend for Nvidia GPUs using CUDA.\n",
        "- `nx-parallel`: A multi-processing backend being developed by the NetworkX team.\n",
        "- `graphblas-algorithms`: A collection of algorithms written using `python-graphblas` which speaclizes in sparse matrix operations. This will be renamed to `nx-graphblas` in the future.\n",
        "\n",
        "#### nx-cugraph\n",
        "\n",
        "Let's take a look at `nx-cugraph`. First, ensure that your colab runtime has a GPU enabled by going to\n",
        "\n",
        "`Edit > Notebook Settings > Hardware Accelerator > T4 GPU`\n",
        "\n",
        "The backend depends on the version of CUDA supported by the GPU driver. That can be checked with this command:"
      ]
    },
    {
      "cell_type": "code",
      "source": [
        "!nvcc --version"
      ],
      "metadata": {
        "id": "ruhEbBfsgGE3"
      },
      "id": "ruhEbBfsgGE3",
      "execution_count": null,
      "outputs": []
    },
    {
      "cell_type": "markdown",
      "source": [
        "Google colab uses CUDA 12.2 by default. We need to install the version of `nx-cugraph` built for CUDA 12. If you're setting this up locally and need the CUDA 11 version, change `cu12` to `cu11` in the below command.\n",
        "\n",
        "Currently the package is hosted by Nvidia on their pypi index, which is why we need the `--extra-index-url` flag."
      ],
      "metadata": {
        "id": "zN5E63zGgHEZ"
      },
      "id": "zN5E63zGgHEZ"
    },
    {
      "cell_type": "code",
      "source": [
        "#!pip install nx-cugraph-cu12 --extra-index-url=https://pypi.nvidia.com"
      ],
      "metadata": {
        "id": "OpLjeD3YgOk4"
      },
      "id": "OpLjeD3YgOk4",
      "execution_count": null,
      "outputs": []
    },
    {
      "cell_type": "markdown",
      "source": [
        "Some of the features we're going to be using are only in the current release, version 3.3. If the next cell does not output `'3.3'`, you need to update NetworkX."
      ],
      "metadata": {
        "id": "ZRh_ONQOgSrY"
      },
      "id": "ZRh_ONQOgSrY"
    },
    {
      "cell_type": "code",
      "source": [
        "nx.__version__"
      ],
      "metadata": {
        "id": "MmkjLjfEgTkr"
      },
      "id": "MmkjLjfEgTkr",
      "execution_count": null,
      "outputs": []
    },
    {
      "cell_type": "markdown",
      "source": [
        "To get a sense of how to work with backends, let's start with a small graph and run the same algorithm on it from the default NetworkX implementation and `nx-cugraph`.\n",
        "\n",
        "The `karate_club_graph()` function returns the famous karate club example graph with 34 nodes and 78 edges from Wayne Zachary's paper \"An Information Flow Model for Conflict and Fission in Small Groups\", described [here](https://en.wikipedia.org/wiki/Zachary%27s_karate_club)."
      ],
      "metadata": {
        "id": "AzZ9vTZGhCTo"
      },
      "id": "AzZ9vTZGhCTo"
    },
    {
      "cell_type": "code",
      "source": [
        "G = nx.karate_club_graph()\n",
        "G.number_of_nodes(), G.number_of_edges()"
      ],
      "metadata": {
        "id": "xxodgE2NgYIW"
      },
      "id": "xxodgE2NgYIW",
      "execution_count": null,
      "outputs": []
    },
    {
      "cell_type": "markdown",
      "source": [
        "[Betweenness Centrailty](https://en.wikipedia.org/wiki/Betweenness_centrality) computes a centrality score for each node (`v`) based on how many of the all-pairs shortests paths pass through `v`. A higher centrality score means a node \"connects\" the other nodes in the graph more than nodes with lower scores.\n",
        "\n",
        "Since the focus of this section is the new dispatching mechanism, we won't focus too much on the details of the result. Instead we want to see the performance benefits that dispatching offers and ensure the correctness of the `nx-cugraph` results."
      ],
      "metadata": {
        "id": "EIIdLL0wiTOH"
      },
      "id": "EIIdLL0wiTOH"
    },
    {
      "cell_type": "code",
      "source": [
        "%%time\n",
        "nx_bc_results = nx.betweenness_centrality(G)"
      ],
      "metadata": {
        "id": "BdeeDsVYgahe"
      },
      "id": "BdeeDsVYgahe",
      "execution_count": null,
      "outputs": []
    },
    {
      "cell_type": "markdown",
      "source": [
        "There are several ways to get NetworkX to use a particular backend instead of the default implementation. This jupyter notebook uses the `config` API, which was first introduced in NetworkX 3.3. However, it is possible to use environment variables to achieve the same result in NetworkX versions 3.0 thourgh 3.2.\n",
        "\n",
        "Some notes:\n",
        "- NetworkX backends should be named with an `nx-` prefix to denote they're packaged insteaded to be used with NetworkX. However, the `nx-` prefix is *not* used when referring to the backend in NetworkX API calls. In this example, the package name is `nx-cugraph`, but NetworkX will refer to it as `\"cugraph\"`.\n",
        "- The `nx.config.backend_priority` variable is actually a list! This way we can use several backends at once, with the first element having higher priority than the others, etc. If a backend doesn't support an algorithm, NetworkX will move to the next one in the list until it either finds a backend which does support the algorithm or discovers that none of the configured backends support it, in which case the default implementation is used.\n",
        "- Many backends have their own data structures for representing the input graph. In this case, prior to running a algorithm from a backend, NetworkX will have to convert the graph from a NetworkX graph to the backend graph type. This conversion can be expansive, and rather than repeat it every time a backend algorithm is called, NetworkX can cache the conversion."
      ],
      "metadata": {
        "id": "Pb5K8IzLjjVC"
      },
      "id": "Pb5K8IzLjjVC"
    },
    {
      "cell_type": "code",
      "source": [
        "nx.config.backend_priority = [\"cugraph\"]  # NETWORKX_BACKEND_PRIORITY=cugraph\n",
        "nx.config.cache_converted_graphs = True   # NETWORKX_CACHE_CONVERTED_GRAPHS=True"
      ],
      "metadata": {
        "id": "0rSRBWbrgdap"
      },
      "id": "0rSRBWbrgdap",
      "execution_count": null,
      "outputs": []
    },
    {
      "cell_type": "code",
      "source": [
        "%%time\n",
        "nxcg_bc_results = nx.betweenness_centrality(G)"
      ],
      "metadata": {
        "id": "ied7meHqggd9"
      },
      "id": "ied7meHqggd9",
      "execution_count": null,
      "outputs": []
    },
    {
      "cell_type": "markdown",
      "source": [
        "Wait a second... The GPU backend was slower than the default implementation? The reported runtime of the cell includes graph conversion and the overhead of lauchning the algorithm kernel on the GPU itself. This takes significantly more time than the execution of the algorithm itself.\n",
        "\n",
        "If we run the cell again, we should at least remove the graph conversion time since we enabled the graph cache."
      ],
      "metadata": {
        "id": "LSranTzKmRMm"
      },
      "id": "LSranTzKmRMm"
    },
    {
      "cell_type": "code",
      "source": [
        "%%time\n",
        "nxcg_bc_results = nx.betweenness_centrality(G)"
      ],
      "metadata": {
        "id": "kXdVmbeEgi2C"
      },
      "id": "kXdVmbeEgi2C",
      "execution_count": null,
      "outputs": []
    },
    {
      "cell_type": "markdown",
      "source": [
        "NetworkX raising an interesting warning that time about the graph cache. This will only be raised once per graph instance and can be easily disabled, but it's important to point out a way in which the cache can be silently invalidated. If you change any node or edge attributes by directly accessing the dictionary (i.e. `G[u][v][attr] = new_val`), NetworkX has no way to know to invalidate the cache which recomputing the conversion! However, this can be easily prevented by using functions like `set_node_attributes` and `set_edge_attributes` which know to clear the cache.\n",
        "\n",
        "For now, let's disable the warning by using the standard python warnings API."
      ],
      "metadata": {
        "id": "G4d71Ea9nH-a"
      },
      "id": "G4d71Ea9nH-a"
    },
    {
      "cell_type": "code",
      "source": [
        "import warnings\n",
        "warnings.filterwarnings(\"ignore\", message=\"Using cached graph for 'cugraph' backend\")"
      ],
      "metadata": {
        "id": "fSlc2KQsgkmB"
      },
      "id": "fSlc2KQsgkmB",
      "execution_count": null,
      "outputs": []
    },
    {
      "cell_type": "markdown",
      "source": [
        "One advantage to using a small graph to start with is that they are easier to visualize. For an intutitive sense that the outputs of the default betweenness centrality and the cugraph one are the same, we can add the results back to the graph as a node attribute and use that to color the nodes in a side-by-side plot. This also helps confirm our intution about which nodes are more central in a visual inspection of the graph."
      ],
      "metadata": {
        "id": "BL5CG9EtoX19"
      },
      "id": "BL5CG9EtoX19"
    },
    {
      "cell_type": "code",
      "source": [
        "nx.set_node_attributes(G, nx_bc_results, \"nx_bc\")\n",
        "nx.set_node_attributes(G, nxcg_bc_results, \"nxcg_bc\")"
      ],
      "metadata": {
        "id": "E1HN34KzRLR9"
      },
      "id": "E1HN34KzRLR9",
      "execution_count": null,
      "outputs": []
    },
    {
      "cell_type": "code",
      "source": [
        "# Configure plot size and layout/position for each node\n",
        "import matplotlib.pyplot as plt\n",
        "plt.rcParams['figure.figsize'] = [12, 8]\n",
        "pos = nx.spring_layout(G)\n",
        "\n",
        "# Assign colors for each set of betweenness centrality results\n",
        "nx_colors = [G.nodes[n][\"nx_bc\"] for n in G.nodes()]\n",
        "nxcg_colors = [G.nodes[n][\"nxcg_bc\"] for n in G.nodes()]\n",
        "\n",
        "# Plot the graph and color each node corresponding to NetworkX betweenness centrality values\n",
        "plt.subplot(1, 2, 1)\n",
        "nx.draw(G, pos=pos, with_labels=True, node_color=nx_colors)\n",
        "\n",
        "# Plot the graph and color each node corresponding to nx-cugraph betweenness centrality values\n",
        "plt.subplot(1, 2, 2)\n",
        "nx.draw(G, pos=pos, with_labels=True, node_color=nxcg_colors)"
      ],
      "metadata": {
        "id": "_T8-DuRgptfU"
      },
      "id": "_T8-DuRgptfU",
      "execution_count": null,
      "outputs": []
    },
    {
      "cell_type": "markdown",
      "source": [
        "As we can see, the same two nodes (`0` and `33`) are the two most central in both graphs, followed by `2`, `31`, and `32`."
      ],
      "metadata": {
        "id": "j3jNQR5wp4BT"
      },
      "id": "j3jNQR5wp4BT"
    },
    {
      "cell_type": "markdown",
      "source": [
        "### PageRank\n",
        "\n",
        "Another popular algorithm is [PageRank](https://en.wikipedia.org/wiki/PageRank), which tries to assess the importance of nodes based on the number and quality of the edges to the node. This is famously the algorithm used by Google when the company launched."
      ],
      "metadata": {
        "id": "ecloegt83sUi"
      },
      "id": "ecloegt83sUi"
    },
    {
      "cell_type": "code",
      "source": [
        "nx.config.backend_priority = []"
      ],
      "metadata": {
        "id": "uZDIXJX63ry7"
      },
      "id": "uZDIXJX63ry7",
      "execution_count": null,
      "outputs": []
    },
    {
      "cell_type": "code",
      "source": [
        "%%time\n",
        "nx_pr_results = nx.pagerank(G)"
      ],
      "metadata": {
        "id": "AlL9xbmc5iyt"
      },
      "id": "AlL9xbmc5iyt",
      "execution_count": null,
      "outputs": []
    },
    {
      "cell_type": "code",
      "source": [
        "%%time\n",
        "nxcg_pr_results = nx.pagerank(G, backend=\"cugraph\")"
      ],
      "metadata": {
        "id": "9qcaWo6f5pJf"
      },
      "id": "9qcaWo6f5pJf",
      "execution_count": null,
      "outputs": []
    },
    {
      "cell_type": "code",
      "source": [
        "sorted(nx_pr_results) == sorted(nxcg_pr_results)"
      ],
      "metadata": {
        "id": "pYlwC-zR5wXO"
      },
      "id": "pYlwC-zR5wXO",
      "execution_count": null,
      "outputs": []
    },
    {
      "cell_type": "markdown",
      "source": [
        "### Bigger Dataset\n",
        "\n",
        "Remember that patent citation dataset? We didnt do any analysis with that one since it's so large. But with the help of a backend, it's suddenly possible."
      ],
      "metadata": {
        "id": "BywhdVqk6hK-"
      },
      "id": "BywhdVqk6hK-"
    },
    {
      "cell_type": "code",
      "source": [
        "str(patents)"
      ],
      "metadata": {
        "id": "RRSO87dg62_G"
      },
      "id": "RRSO87dg62_G",
      "execution_count": null,
      "outputs": []
    },
    {
      "cell_type": "markdown",
      "source": [
        "The default behavior for `nx.betweenness_centrality` is to perform an all-pairs shortest path analysis to determine the centrality scores for each node. However, given the size of this graph that is not feasible. Instead, we can set the parameter `k` to limit the numer of shortest path computations. At `k = 1`, the algorithm samples one node at random from the graph and computes a shortest path to all other nodes, tracking how often each other node appears. In terms of accuracy, we're sampling 0.000026% of the graph so the results are basically unusable."
      ],
      "metadata": {
        "id": "Rn_H4PWO7Hrn"
      },
      "id": "Rn_H4PWO7Hrn"
    },
    {
      "cell_type": "code",
      "source": [
        "%%time\n",
        "bc_results = nx.betweenness_centrality(patents, k=1)"
      ],
      "metadata": {
        "id": "kOsZwWTl8mo0"
      },
      "id": "kOsZwWTl8mo0",
      "execution_count": null,
      "outputs": []
    },
    {
      "cell_type": "markdown",
      "source": [
        "This this rate, if we can expect roughly linear execution time growth rates, it would take the default NetworkX implementation **9.5 years** to complete the full betweenness centrality.\n",
        "\n",
        "Let's turn on `nx-cugraph` again. Because the dispatching system hasn't seen this graph before, the execution time will include graph conversion."
      ],
      "metadata": {
        "id": "Qms_BEz48o9h"
      },
      "id": "Qms_BEz48o9h"
    },
    {
      "cell_type": "code",
      "source": [
        "nx.config.backend_priority = [\"cugraph\"]"
      ],
      "metadata": {
        "id": "A7nCKkjr8ob7"
      },
      "id": "A7nCKkjr8ob7",
      "execution_count": null,
      "outputs": []
    },
    {
      "cell_type": "code",
      "source": [
        "%%time\n",
        "bc_results = nx.betweenness_centrality(patents, k=1)"
      ],
      "metadata": {
        "id": "noo_luc39Vl0"
      },
      "id": "noo_luc39Vl0",
      "execution_count": null,
      "outputs": []
    },
    {
      "cell_type": "markdown",
      "source": [
        "If we run the cell again, we can see what the performace is without needed to convert the graph."
      ],
      "metadata": {
        "id": "26HLtSVY9kY-"
      },
      "id": "26HLtSVY9kY-"
    },
    {
      "cell_type": "code",
      "source": [
        "%%time\n",
        "bc_results = nx.betweenness_centrality(patents, k=1)"
      ],
      "metadata": {
        "id": "krJ8a5tJ9iUK"
      },
      "id": "krJ8a5tJ9iUK",
      "execution_count": null,
      "outputs": []
    },
    {
      "cell_type": "markdown",
      "source": [
        "Even at `k=100` we're not sampling a lot of nodes from the graph, but we're doing much better than before."
      ],
      "metadata": {
        "id": "aRJrL8JP947l"
      },
      "id": "aRJrL8JP947l"
    },
    {
      "cell_type": "code",
      "source": [
        "%%time\n",
        "bc_results = nx.betweenness_centrality(patents, k=100)"
      ],
      "metadata": {
        "id": "bXC-AvES92hr"
      },
      "execution_count": null,
      "outputs": [],
      "id": "bXC-AvES92hr"
    },
    {
      "cell_type": "markdown",
      "source": [
        "Unfortantely, since these results only approximate the true betweenness centrality, we have no way to directly compare them. However, as we saw for the karate club graph, the results would be the same."
      ],
      "metadata": {
        "id": "h-sU3F6T-HDQ"
      },
      "id": "h-sU3F6T-HDQ"
    },
    {
      "cell_type": "markdown",
      "source": [
        "However, PageRank is determinsitic so we can compare these results."
      ],
      "metadata": {
        "id": "EOzABtOB-boe"
      },
      "id": "EOzABtOB-boe"
    },
    {
      "cell_type": "code",
      "source": [
        "nx.config.backend_priority = []"
      ],
      "metadata": {
        "id": "5IezVZwC-h9r"
      },
      "id": "5IezVZwC-h9r",
      "execution_count": null,
      "outputs": []
    },
    {
      "cell_type": "code",
      "source": [
        "%%time\n",
        "nx_pr_results = nx.pagerank(patents)"
      ],
      "metadata": {
        "id": "gXlSJOMj-lbC"
      },
      "id": "gXlSJOMj-lbC",
      "execution_count": null,
      "outputs": []
    },
    {
      "cell_type": "code",
      "source": [
        "%%time\n",
        "nxcg_pr_results = nx.pagerank(patents, backend=\"cugraph\")"
      ],
      "metadata": {
        "id": "F195Jc5i-rYC"
      },
      "id": "F195Jc5i-rYC",
      "execution_count": null,
      "outputs": []
    },
    {
      "cell_type": "code",
      "source": [
        "sorted(nx_pr_results) == sorted(nxcg_pr_results)"
      ],
      "metadata": {
        "id": "0WykvnMZ-yaT"
      },
      "id": "0WykvnMZ-yaT",
      "execution_count": null,
      "outputs": []
    },
    {
      "cell_type": "markdown",
      "source": [
        "### Other Backends\n",
        "\n",
        "This tutorial focused on `nx-cugraph`, but there are two other published backends out there, `nx-parallel` and `graphblas-algorithms`.\n",
        "\n",
        "The graphblas backend was actually the first backend and the algorithms implemented in it have more through performance evaluation.\n",
        "\n",
        "![graphblas performance metrics](https://raw.githubusercontent.com/python-graphblas/graphblas-algorithms/main/docs/_static/img/graphblas-vs-networkx.png)"
      ],
      "metadata": {
        "id": "J0CbuawyAP6z"
      },
      "id": "J0CbuawyAP6z"
    }
  ],
  "metadata": {
    "kernelspec": {
      "display_name": "Python 3",
      "name": "python3"
    },
    "language_info": {
      "codemirror_mode": {
        "name": "ipython",
        "version": 3
      },
      "file_extension": ".py",
      "mimetype": "text/x-python",
      "name": "python",
      "nbconvert_exporter": "python",
      "pygments_lexer": "ipython3",
      "version": "3.11.9"
    },
    "colab": {
      "provenance": [],
      "gpuType": "T4",
      "collapsed_sections": [
        "6ym9GRtkKHdl"
      ]
    },
    "accelerator": "GPU"
  },
  "nbformat": 4,
  "nbformat_minor": 5
}